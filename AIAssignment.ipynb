{
  "nbformat": 4,
  "nbformat_minor": 0,
  "metadata": {
    "colab": {
      "name": "AIAssignment.ipynb",
      "version": "0.3.2",
      "views": {},
      "default_view": {},
      "provenance": [],
      "toc_visible": true
    },
    "kernelspec": {
      "name": "python3",
      "display_name": "Python 3"
    }
  },
  "cells": [
    {
      "metadata": {
        "id": "GMfeWZmWpdVu",
        "colab_type": "code",
        "colab": {
          "autoexec": {
            "startup": false,
            "wait_interval": 0
          }
        }
      },
      "cell_type": "code",
      "source": [
        "from sklearn.preprocessing import LabelEncoder\n",
        "from sklearn.cross_validation import train_test_split\n",
        "from keras.models import Sequential\n",
        "from keras.layers import Activation\n",
        "from keras.optimizers import SGD\n",
        "from keras.layers import Dense\n",
        "from keras.utils import np_utils\n",
        "import numpy as np"
      ],
      "execution_count": 0,
      "outputs": []
    },
    {
      "metadata": {
        "id": "VPvtbmmnx_F8",
        "colab_type": "code",
        "colab": {
          "autoexec": {
            "startup": false,
            "wait_interval": 0
          }
        }
      },
      "cell_type": "code",
      "source": [
        "# https://keras.io/\n",
        "!pip install -q keras\n",
        "import keras"
      ],
      "execution_count": 0,
      "outputs": []
    },
    {
      "metadata": {
        "id": "dhzteo9rp2In",
        "colab_type": "code",
        "colab": {
          "autoexec": {
            "startup": false,
            "wait_interval": 0
          }
        }
      },
      "cell_type": "code",
      "source": [
        "from keras.datasets import mnist"
      ],
      "execution_count": 0,
      "outputs": []
    },
    {
      "metadata": {
        "id": "6ziWH_NXx_ZL",
        "colab_type": "code",
        "colab": {
          "autoexec": {
            "startup": false,
            "wait_interval": 0
          }
        }
      },
      "cell_type": "code",
      "source": [
        "(x_train, y_train), (x_test, y_test) = mnist.load_data()"
      ],
      "execution_count": 0,
      "outputs": []
    },
    {
      "metadata": {
        "id": "0mgjKJcbyZQw",
        "colab_type": "code",
        "colab": {
          "autoexec": {
            "startup": false,
            "wait_interval": 0
          }
        }
      },
      "cell_type": "code",
      "source": [
        "data_train = []\n",
        "label_train = []\n",
        "data_test = []\n",
        "label_test = []"
      ],
      "execution_count": 0,
      "outputs": []
    },
    {
      "metadata": {
        "id": "S-bMOX-8zMM7",
        "colab_type": "code",
        "colab": {
          "autoexec": {
            "startup": false,
            "wait_interval": 0
          }
        }
      },
      "cell_type": "code",
      "source": [
        "for i in x_train:\n",
        "  data_train.append(i.flatten());\n",
        "for i in y_train:\n",
        "  label_train.append(i);\n",
        "for i in x_test:\n",
        "  data_test.append(i.flatten());\n",
        "for i in y_test:\n",
        "  label_test.append(i);"
      ],
      "execution_count": 0,
      "outputs": []
    },
    {
      "metadata": {
        "id": "u1xCD-xa3cQn",
        "colab_type": "code",
        "colab": {
          "autoexec": {
            "startup": false,
            "wait_interval": 0
          }
        }
      },
      "cell_type": "code",
      "source": [
        "label_train = np_utils.to_categorical(label_train, 10)\n",
        "label_test = np_utils.to_categorical(label_test, 10)"
      ],
      "execution_count": 0,
      "outputs": []
    },
    {
      "metadata": {
        "id": "Xppzs0H-yDre",
        "colab_type": "code",
        "colab": {
          "autoexec": {
            "startup": false,
            "wait_interval": 0
          },
          "output_extras": [
            {
              "item_id": 1
            }
          ],
          "base_uri": "https://localhost:8080/",
          "height": 105
        },
        "outputId": "2575618d-b50d-412d-d965-f06978c9caf9",
        "executionInfo": {
          "status": "ok",
          "timestamp": 1519814548157,
          "user_tz": -330,
          "elapsed": 1327,
          "user": {
            "displayName": "Neeraj Parkala",
            "photoUrl": "//lh5.googleusercontent.com/-Ve_tz_ld340/AAAAAAAAAAI/AAAAAAAADSY/u0nkMbDBLLk/s50-c-k-no/photo.jpg",
            "userId": "114670559394884973178"
          }
        }
      },
      "cell_type": "code",
      "source": [
        "model = Sequential()\n",
        "model.add(Dense(512, input_dim=784, init=\"uniform\",\n",
        "\tactivation=\"relu\"))\n",
        "model.add(Dense(256, init=\"uniform\", activation=\"relu\"))\n",
        "model.add(Dense(10, activation=\"softmax\"))"
      ],
      "execution_count": 37,
      "outputs": [
        {
          "output_type": "stream",
          "text": [
            "/usr/local/lib/python3.6/dist-packages/ipykernel_launcher.py:3: UserWarning: Update your `Dense` call to the Keras 2 API: `Dense(512, input_dim=784, activation=\"relu\", kernel_initializer=\"uniform\")`\n",
            "  This is separate from the ipykernel package so we can avoid doing imports until\n",
            "/usr/local/lib/python3.6/dist-packages/ipykernel_launcher.py:4: UserWarning: Update your `Dense` call to the Keras 2 API: `Dense(256, activation=\"relu\", kernel_initializer=\"uniform\")`\n",
            "  after removing the cwd from sys.path.\n"
          ],
          "name": "stderr"
        }
      ]
    },
    {
      "metadata": {
        "id": "f_ojoa1SyWEY",
        "colab_type": "code",
        "colab": {
          "autoexec": {
            "startup": false,
            "wait_interval": 0
          },
          "output_extras": [
            {
              "item_id": 42
            },
            {
              "item_id": 88
            },
            {
              "item_id": 132
            },
            {
              "item_id": 148
            },
            {
              "item_id": 149
            }
          ],
          "base_uri": "https://localhost:8080/",
          "height": 564
        },
        "outputId": "82fc1b9d-bfb0-43fd-bb1b-d039ea2206da",
        "executionInfo": {
          "status": "ok",
          "timestamp": 1519814631127,
          "user_tz": -330,
          "elapsed": 79953,
          "user": {
            "displayName": "Neeraj Parkala",
            "photoUrl": "//lh5.googleusercontent.com/-Ve_tz_ld340/AAAAAAAAAAI/AAAAAAAADSY/u0nkMbDBLLk/s50-c-k-no/photo.jpg",
            "userId": "114670559394884973178"
          }
        }
      },
      "cell_type": "code",
      "source": [
        "sgd = SGD(lr=0.01)\n",
        "model.compile(loss=\"binary_crossentropy\", optimizer=sgd,\n",
        "\tmetrics=[\"accuracy\"])\n",
        "model.fit(np.array(data_train), np.array(label_train), epochs=15, batch_size=128)\n"
      ],
      "execution_count": 38,
      "outputs": [
        {
          "output_type": "stream",
          "text": [
            "Epoch 1/15\n",
            "60000/60000 [==============================] - 5s 80us/step - loss: 0.4175 - acc: 0.9618\n",
            "Epoch 2/15\n",
            "60000/60000 [==============================] - 5s 88us/step - loss: 0.0498 - acc: 0.9890\n",
            "Epoch 3/15\n",
            "60000/60000 [==============================] - 5s 88us/step - loss: 0.0275 - acc: 0.9929\n",
            "Epoch 4/15\n",
            "60000/60000 [==============================] - 5s 89us/step - loss: 0.0176 - acc: 0.9954\n",
            "Epoch 5/15\n",
            " 7808/60000 [==>...........................] - ETA: 4s - loss: 0.0125 - acc: 0.9968"
          ],
          "name": "stdout"
        },
        {
          "output_type": "stream",
          "text": [
            "60000/60000 [==============================] - 5s 88us/step - loss: 0.0123 - acc: 0.9967\n",
            "Epoch 6/15\n",
            "60000/60000 [==============================] - 5s 89us/step - loss: 0.0091 - acc: 0.9977\n",
            "Epoch 7/15\n",
            "60000/60000 [==============================] - 5s 88us/step - loss: 0.0066 - acc: 0.9984\n",
            "Epoch 8/15\n",
            "60000/60000 [==============================] - 5s 88us/step - loss: 0.0052 - acc: 0.9989\n",
            "Epoch 9/15\n",
            "12160/60000 [=====>........................] - ETA: 4s - loss: 0.0036 - acc: 0.9993"
          ],
          "name": "stdout"
        },
        {
          "output_type": "stream",
          "text": [
            "60000/60000 [==============================] - 5s 87us/step - loss: 0.0040 - acc: 0.9992\n",
            "Epoch 10/15\n",
            "60000/60000 [==============================] - 5s 87us/step - loss: 0.0032 - acc: 0.9994\n",
            "Epoch 11/15\n",
            "60000/60000 [==============================] - 5s 87us/step - loss: 0.0027 - acc: 0.9996\n",
            "Epoch 12/15\n",
            "60000/60000 [==============================] - 5s 88us/step - loss: 0.0022 - acc: 0.9997\n",
            "Epoch 13/15\n",
            "12800/60000 [=====>........................] - ETA: 4s - loss: 0.0023 - acc: 0.9997"
          ],
          "name": "stdout"
        },
        {
          "output_type": "stream",
          "text": [
            "60000/60000 [==============================] - 5s 88us/step - loss: 0.0019 - acc: 0.9997\n",
            "Epoch 14/15\n",
            "60000/60000 [==============================] - 5s 87us/step - loss: 0.0017 - acc: 0.9998\n",
            "Epoch 15/15\n",
            "60000/60000 [==============================] - 5s 87us/step - loss: 0.0015 - acc: 0.9998\n"
          ],
          "name": "stdout"
        },
        {
          "output_type": "execute_result",
          "data": {
            "text/plain": [
              "<keras.callbacks.History at 0x7fbcfc7ecb38>"
            ]
          },
          "metadata": {
            "tags": []
          },
          "execution_count": 38
        }
      ]
    },
    {
      "metadata": {
        "id": "TRwewNu14oep",
        "colab_type": "code",
        "colab": {
          "autoexec": {
            "startup": false,
            "wait_interval": 0
          },
          "output_extras": [
            {
              "item_id": 1
            }
          ],
          "base_uri": "https://localhost:8080/",
          "height": 51
        },
        "outputId": "cf1eebe9-92ab-4f5a-c49a-19bf151912fc",
        "executionInfo": {
          "status": "ok",
          "timestamp": 1519814632588,
          "user_tz": -330,
          "elapsed": 1421,
          "user": {
            "displayName": "Neeraj Parkala",
            "photoUrl": "//lh5.googleusercontent.com/-Ve_tz_ld340/AAAAAAAAAAI/AAAAAAAADSY/u0nkMbDBLLk/s50-c-k-no/photo.jpg",
            "userId": "114670559394884973178"
          }
        }
      },
      "cell_type": "code",
      "source": [
        "(loss, accuracy) = model.evaluate(np.array(data_test), np.array(label_test),\n",
        "\tbatch_size=128, verbose=1)\n",
        "print(\"[INFO] loss={:.4f}, accuracy: {:.4f}%\".format(loss,\n",
        "\taccuracy * 100))"
      ],
      "execution_count": 39,
      "outputs": [
        {
          "output_type": "stream",
          "text": [
            "10000/10000 [==============================] - 0s 38us/step\n",
            "[INFO] loss=0.0308, accuracy: 99.2610%\n"
          ],
          "name": "stdout"
        }
      ]
    },
    {
      "metadata": {
        "id": "A2JyJ2Gr7Nst",
        "colab_type": "code",
        "colab": {
          "autoexec": {
            "startup": false,
            "wait_interval": 0
          }
        }
      },
      "cell_type": "code",
      "source": [
        ""
      ],
      "execution_count": 0,
      "outputs": []
    }
  ]
}